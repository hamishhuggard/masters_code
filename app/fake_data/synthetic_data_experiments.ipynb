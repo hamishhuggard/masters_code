{
 "cells": [
  {
   "cell_type": "code",
   "execution_count": 89,
   "metadata": {},
   "outputs": [],
   "source": [
    "import pandas as pd\n",
    "import numpy as np\n",
    "import matplotlib.pyplot as plt\n",
    "import random\n",
    "from sklearn.tree import DecisionTreeClassifier\n",
    "from collections import Counter, defaultdict\n",
    "from sklearn.naive_bayes import BernoulliNB\n",
    "from IPython.display import display"
   ]
  },
  {
   "cell_type": "code",
   "execution_count": 44,
   "metadata": {},
   "outputs": [],
   "source": [
    "import sys\n",
    "import os\n",
    "tornado_path = os.path.abspath('../../tornado')\n",
    "sys.path.insert(0, tornado_path)\n",
    "from drift_detection.__init__ import *"
   ]
  },
  {
   "cell_type": "code",
   "execution_count": 4,
   "metadata": {},
   "outputs": [
    {
     "data": {
      "text/plain": [
       "2"
      ]
     },
     "execution_count": 4,
     "metadata": {},
     "output_type": "execute_result"
    }
   ],
   "source": [
    "random.choice([1,2,3])"
   ]
  },
  {
   "cell_type": "code",
   "execution_count": 7,
   "metadata": {},
   "outputs": [
    {
     "data": {
      "text/html": [
       "<div>\n",
       "<style scoped>\n",
       "    .dataframe tbody tr th:only-of-type {\n",
       "        vertical-align: middle;\n",
       "    }\n",
       "\n",
       "    .dataframe tbody tr th {\n",
       "        vertical-align: top;\n",
       "    }\n",
       "\n",
       "    .dataframe thead th {\n",
       "        text-align: right;\n",
       "    }\n",
       "</style>\n",
       "<table border=\"1\" class=\"dataframe\">\n",
       "  <thead>\n",
       "    <tr style=\"text-align: right;\">\n",
       "      <th></th>\n",
       "      <th>x</th>\n",
       "      <th>y</th>\n",
       "    </tr>\n",
       "  </thead>\n",
       "  <tbody>\n",
       "    <tr>\n",
       "      <th>1</th>\n",
       "      <td>2</td>\n",
       "      <td>4</td>\n",
       "    </tr>\n",
       "  </tbody>\n",
       "</table>\n",
       "</div>"
      ],
      "text/plain": [
       "   x  y\n",
       "1  2  4"
      ]
     },
     "execution_count": 7,
     "metadata": {},
     "output_type": "execute_result"
    }
   ],
   "source": [
    "df = pd.DataFrame({'x': [1,2,3], 'y': [2,4,8]})\n",
    "df2 = pd.DataFrame({'x':[11,12,13], 'y':[12,14,18]})\n",
    "df.sample(1)"
   ]
  },
  {
   "cell_type": "code",
   "execution_count": 8,
   "metadata": {},
   "outputs": [
    {
     "data": {
      "text/html": [
       "<div>\n",
       "<style scoped>\n",
       "    .dataframe tbody tr th:only-of-type {\n",
       "        vertical-align: middle;\n",
       "    }\n",
       "\n",
       "    .dataframe tbody tr th {\n",
       "        vertical-align: top;\n",
       "    }\n",
       "\n",
       "    .dataframe thead th {\n",
       "        text-align: right;\n",
       "    }\n",
       "</style>\n",
       "<table border=\"1\" class=\"dataframe\">\n",
       "  <thead>\n",
       "    <tr style=\"text-align: right;\">\n",
       "      <th></th>\n",
       "      <th>x</th>\n",
       "      <th>y</th>\n",
       "    </tr>\n",
       "  </thead>\n",
       "  <tbody>\n",
       "    <tr>\n",
       "      <th>0</th>\n",
       "      <td>11</td>\n",
       "      <td>12</td>\n",
       "    </tr>\n",
       "    <tr>\n",
       "      <th>1</th>\n",
       "      <td>0</td>\n",
       "      <td>100</td>\n",
       "    </tr>\n",
       "    <tr>\n",
       "      <th>2</th>\n",
       "      <td>13</td>\n",
       "      <td>18</td>\n",
       "    </tr>\n",
       "  </tbody>\n",
       "</table>\n",
       "</div>"
      ],
      "text/plain": [
       "    x    y\n",
       "0  11   12\n",
       "1   0  100\n",
       "2  13   18"
      ]
     },
     "execution_count": 8,
     "metadata": {},
     "output_type": "execute_result"
    }
   ],
   "source": [
    "df2.loc[1, :] = [0, 100]\n",
    "df2"
   ]
  },
  {
   "cell_type": "code",
   "execution_count": 41,
   "metadata": {},
   "outputs": [
    {
     "data": {
      "text/plain": [
       "2"
      ]
     },
     "execution_count": 41,
     "metadata": {},
     "output_type": "execute_result"
    }
   ],
   "source": [
    "len(np.where(df2['x']%2==1)[0])"
   ]
  },
  {
   "cell_type": "code",
   "execution_count": 11,
   "metadata": {},
   "outputs": [
    {
     "data": {
      "text/html": [
       "<div>\n",
       "<style scoped>\n",
       "    .dataframe tbody tr th:only-of-type {\n",
       "        vertical-align: middle;\n",
       "    }\n",
       "\n",
       "    .dataframe tbody tr th {\n",
       "        vertical-align: top;\n",
       "    }\n",
       "\n",
       "    .dataframe thead th {\n",
       "        text-align: right;\n",
       "    }\n",
       "</style>\n",
       "<table border=\"1\" class=\"dataframe\">\n",
       "  <thead>\n",
       "    <tr style=\"text-align: right;\">\n",
       "      <th></th>\n",
       "      <th>x</th>\n",
       "      <th>y</th>\n",
       "    </tr>\n",
       "  </thead>\n",
       "  <tbody>\n",
       "    <tr>\n",
       "      <th>0</th>\n",
       "      <td>11</td>\n",
       "      <td>12</td>\n",
       "    </tr>\n",
       "    <tr>\n",
       "      <th>1</th>\n",
       "      <td>0</td>\n",
       "      <td>100</td>\n",
       "    </tr>\n",
       "    <tr>\n",
       "      <th>2</th>\n",
       "      <td>1</td>\n",
       "      <td>2</td>\n",
       "    </tr>\n",
       "  </tbody>\n",
       "</table>\n",
       "</div>"
      ],
      "text/plain": [
       "    x    y\n",
       "0  11   12\n",
       "1   0  100\n",
       "2   1    2"
      ]
     },
     "execution_count": 11,
     "metadata": {},
     "output_type": "execute_result"
    }
   ],
   "source": [
    "df2.loc[2, :] = df.sample(1).values\n",
    "df2"
   ]
  },
  {
   "cell_type": "code",
   "execution_count": 38,
   "metadata": {},
   "outputs": [
    {
     "ename": "AttributeError",
     "evalue": "'RangeIndex' object has no attribute 'filter'",
     "output_type": "error",
     "traceback": [
      "\u001b[0;31m---------------------------------------------------------------------------\u001b[0m",
      "\u001b[0;31mAttributeError\u001b[0m                            Traceback (most recent call last)",
      "\u001b[0;32m<ipython-input-38-4e794fd16c6e>\u001b[0m in \u001b[0;36m<module>\u001b[0;34m\u001b[0m\n\u001b[0;32m----> 1\u001b[0;31m \u001b[0mdf2\u001b[0m\u001b[0;34m[\u001b[0m\u001b[0;34m'x'\u001b[0m\u001b[0;34m]\u001b[0m\u001b[0;34m.\u001b[0m\u001b[0mindex\u001b[0m\u001b[0;34m.\u001b[0m\u001b[0mfilter\u001b[0m\u001b[0;34m(\u001b[0m\u001b[0;32mlambda\u001b[0m \u001b[0mx\u001b[0m\u001b[0;34m:\u001b[0m \u001b[0mdf2\u001b[0m\u001b[0;34m.\u001b[0m\u001b[0mloc\u001b[0m\u001b[0;34m[\u001b[0m\u001b[0mx\u001b[0m\u001b[0;34m,\u001b[0m \u001b[0;34m'x'\u001b[0m\u001b[0;34m]\u001b[0m\u001b[0;34m%\u001b[0m\u001b[0;36m1\u001b[0m\u001b[0;34m==\u001b[0m\u001b[0;36m1\u001b[0m\u001b[0;34m)\u001b[0m\u001b[0;34m\u001b[0m\u001b[0;34m\u001b[0m\u001b[0m\n\u001b[0m",
      "\u001b[0;31mAttributeError\u001b[0m: 'RangeIndex' object has no attribute 'filter'"
     ]
    }
   ],
   "source": [
    "list(df2['x'].index).filter(lambda x: df2.loc[x, 'x']%1==1)"
   ]
  },
  {
   "cell_type": "code",
   "execution_count": 22,
   "metadata": {},
   "outputs": [
    {
     "data": {
      "text/plain": [
       "{'z'}"
      ]
     },
     "execution_count": 22,
     "metadata": {},
     "output_type": "execute_result"
    }
   ],
   "source": [
    "df3 = pd.DataFrame({'x':[1], 'y':[2], 'z':[3]})\n",
    "cols = set(df3)\n",
    "cols -= set(['x', 'y'])\n",
    "cols"
   ]
  },
  {
   "cell_type": "code",
   "execution_count": 24,
   "metadata": {},
   "outputs": [
    {
     "data": {
      "text/html": [
       "<div>\n",
       "<style scoped>\n",
       "    .dataframe tbody tr th:only-of-type {\n",
       "        vertical-align: middle;\n",
       "    }\n",
       "\n",
       "    .dataframe tbody tr th {\n",
       "        vertical-align: top;\n",
       "    }\n",
       "\n",
       "    .dataframe thead th {\n",
       "        text-align: right;\n",
       "    }\n",
       "</style>\n",
       "<table border=\"1\" class=\"dataframe\">\n",
       "  <thead>\n",
       "    <tr style=\"text-align: right;\">\n",
       "      <th></th>\n",
       "      <th>y</th>\n",
       "    </tr>\n",
       "  </thead>\n",
       "  <tbody>\n",
       "    <tr>\n",
       "      <th>0</th>\n",
       "      <td>2</td>\n",
       "    </tr>\n",
       "  </tbody>\n",
       "</table>\n",
       "</div>"
      ],
      "text/plain": [
       "   y\n",
       "0  2"
      ]
     },
     "execution_count": 24,
     "metadata": {},
     "output_type": "execute_result"
    }
   ],
   "source": [
    "df3[['y']]"
   ]
  },
  {
   "cell_type": "code",
   "execution_count": 25,
   "metadata": {},
   "outputs": [
    {
     "data": {
      "text/html": [
       "<div>\n",
       "<style scoped>\n",
       "    .dataframe tbody tr th:only-of-type {\n",
       "        vertical-align: middle;\n",
       "    }\n",
       "\n",
       "    .dataframe tbody tr th {\n",
       "        vertical-align: top;\n",
       "    }\n",
       "\n",
       "    .dataframe thead th {\n",
       "        text-align: right;\n",
       "    }\n",
       "</style>\n",
       "<table border=\"1\" class=\"dataframe\">\n",
       "  <thead>\n",
       "    <tr style=\"text-align: right;\">\n",
       "      <th></th>\n",
       "      <th>x</th>\n",
       "      <th>y</th>\n",
       "      <th>z</th>\n",
       "    </tr>\n",
       "  </thead>\n",
       "  <tbody>\n",
       "    <tr>\n",
       "      <th>0</th>\n",
       "      <td>1</td>\n",
       "      <td>2</td>\n",
       "      <td>3</td>\n",
       "    </tr>\n",
       "  </tbody>\n",
       "</table>\n",
       "</div>"
      ],
      "text/plain": [
       "   x  y  z\n",
       "0  1  2  3"
      ]
     },
     "execution_count": 25,
     "metadata": {},
     "output_type": "execute_result"
    }
   ],
   "source": [
    "df3.sample(frac=1, replace=True)"
   ]
  },
  {
   "cell_type": "code",
   "execution_count": 34,
   "metadata": {},
   "outputs": [
    {
     "data": {
      "text/html": [
       "<div>\n",
       "<style scoped>\n",
       "    .dataframe tbody tr th:only-of-type {\n",
       "        vertical-align: middle;\n",
       "    }\n",
       "\n",
       "    .dataframe tbody tr th {\n",
       "        vertical-align: top;\n",
       "    }\n",
       "\n",
       "    .dataframe thead th {\n",
       "        text-align: right;\n",
       "    }\n",
       "</style>\n",
       "<table border=\"1\" class=\"dataframe\">\n",
       "  <thead>\n",
       "    <tr style=\"text-align: right;\">\n",
       "      <th></th>\n",
       "      <th>y</th>\n",
       "      <th>z</th>\n",
       "    </tr>\n",
       "  </thead>\n",
       "  <tbody>\n",
       "    <tr>\n",
       "      <th>0</th>\n",
       "      <td>2</td>\n",
       "      <td>3</td>\n",
       "    </tr>\n",
       "  </tbody>\n",
       "</table>\n",
       "</div>"
      ],
      "text/plain": [
       "   y  z\n",
       "0  2  3"
      ]
     },
     "execution_count": 34,
     "metadata": {},
     "output_type": "execute_result"
    }
   ],
   "source": [
    "df3.drop(columns=['x'])"
   ]
  },
  {
   "cell_type": "code",
   "execution_count": 48,
   "metadata": {},
   "outputs": [
    {
     "data": {
      "text/plain": [
       "[1, 1, 1]"
      ]
     },
     "execution_count": 48,
     "metadata": {},
     "output_type": "execute_result"
    }
   ],
   "source": [
    "random.choices(list(df3.x), k=3)"
   ]
  },
  {
   "cell_type": "code",
   "execution_count": 28,
   "metadata": {},
   "outputs": [
    {
     "name": "stdout",
     "output_type": "stream",
     "text": [
      "Help on method choice in module random:\n",
      "\n",
      "choice(seq) method of random.Random instance\n",
      "    Choose a random element from a non-empty sequence.\n",
      "\n"
     ]
    }
   ],
   "source": [
    "help(random.choice)"
   ]
  },
  {
   "cell_type": "code",
   "execution_count": 31,
   "metadata": {},
   "outputs": [
    {
     "data": {
      "text/plain": [
       "[4, 3, 1, 3, 2]"
      ]
     },
     "execution_count": 31,
     "metadata": {},
     "output_type": "execute_result"
    }
   ],
   "source": [
    "random.choices([1,2,3,4], k=5)"
   ]
  },
  {
   "cell_type": "code",
   "execution_count": 35,
   "metadata": {},
   "outputs": [
    {
     "name": "stdout",
     "output_type": "stream",
     "text": [
      "Help on method sample in module random:\n",
      "\n",
      "sample(population, k) method of random.Random instance\n",
      "    Chooses k unique random elements from a population sequence or set.\n",
      "    \n",
      "    Returns a new list containing elements from the population while\n",
      "    leaving the original population unchanged.  The resulting list is\n",
      "    in selection order so that all sub-slices will also be valid random\n",
      "    samples.  This allows raffle winners (the sample) to be partitioned\n",
      "    into grand prize and second place winners (the subslices).\n",
      "    \n",
      "    Members of the population need not be hashable or unique.  If the\n",
      "    population contains repeats, then each occurrence is a possible\n",
      "    selection in the sample.\n",
      "    \n",
      "    To choose a sample in a range of integers, use range as an argument.\n",
      "    This is especially fast and space efficient for sampling from a\n",
      "    large population:   sample(range(10000000), 60)\n",
      "\n"
     ]
    }
   ],
   "source": [
    "help(random.sample)"
   ]
  },
  {
   "cell_type": "code",
   "execution_count": 130,
   "metadata": {},
   "outputs": [],
   "source": [
    "# I am here assuming that there is no 'date' column\n",
    "\n",
    "# All of these scenario functions return:\n",
    "#   1. a copy of the data with the scenario applied to it\n",
    "#   2. the streams which should experience change\n",
    "\n",
    "# All scenarios should experience a change in the error rate\n",
    "\n",
    "def shuffle_features(data, classes, shuffle_n=5):\n",
    "    # pick shuffle_n features columns and shuffle them\n",
    "    ret = data.copy()\n",
    "    features = set(data.columns) - set(['label'])\n",
    "    to_shuffle = random.sample(features, shuffle_n)\n",
    "    for i in range(shuffle_n):\n",
    "        ret[to_shuffle[i]] = ret[to_shuffle[(i+1)%shuffle_n]]\n",
    "    return ret, to_shuffle + [f'label={i}' for i in classes]\n",
    "    \n",
    "def not_feature(data, classes):\n",
    "    # randomly choose a feature x and replace values with not x\n",
    "    ret = data.copy()\n",
    "    features = set(data.columns) - set(['label'])\n",
    "    invert_col = random.choice(list(features))\n",
    "    ret[invert_col] = [ not i for i in ret[invert_col] ]\n",
    "    return ret, [invert_col] + [f'label={i}' for i in classes]\n",
    "\n",
    "def swap_classes(data, classes):\n",
    "    # pick two classes and replace half of instances of class 1 with instances of class 2\n",
    "    ret = data.copy()\n",
    "    active_classes = list(set(data['label']))\n",
    "    incr_class, decr_class = random.sample(active_classes, 2)\n",
    "    replace_with = data[ data['label'] == incr_class ]\n",
    "    to_replace = np.where(data['label'] == decr_class )[0] # output is wrapped in a tuple for some reason\n",
    "    to_replace = list(to_replace)\n",
    "    replace_n = len(to_replace) // 2\n",
    "    to_replace = random.sample(to_replace, replace_n)\n",
    "    for replace_i in to_replace:\n",
    "        replacer = replace_with.sample(1).values\n",
    "        for j in range(len(ret.columns)):\n",
    "            ret.iloc[replace_i, j] = replacer[0][j]\n",
    "#         ret.iloc[replace_i, :] = \n",
    "    features = set(data.columns) - set(classes)\n",
    "    return ret, [f'label={i}' for i in [decr_class, incr_class] ] + list(features) # class rates should change plus all feature rates\n",
    "\n",
    "def new_concept(data, classes):\n",
    "    # drop classes columns\n",
    "    no_classes = data.drop(columns=['label'])\n",
    "    # train new concept\n",
    "    dtree = DecisionTreeClassifier()\n",
    "    n_subsamples = 10\n",
    "    dtree.fit(no_classes.sample(n_subsamples), random.choices(list(data['label']), k=n_subsamples))\n",
    "    # predict labels\n",
    "    labels = dtree.predict(no_classes)\n",
    "    # reset classes\n",
    "    ret = data.copy()\n",
    "    ret['label'] = labels\n",
    "    return ret, [f'label={i}' for i in classes] + ['err'] # dtree\n",
    "\n",
    "scenarios = 'shuffle_features not_feature swap_classes new_concept'.split()\n",
    "\n",
    "def add_made_up_labels(no_classes, classes):\n",
    "    # NB: no_classes is NOT number of classes. It's a df without any classes/labels\n",
    "    # train new concept\n",
    "    dtree = DecisionTreeClassifier()\n",
    "    n_subsamples = 10\n",
    "    dtree.fit(no_classes.sample(n_subsamples), random.choices(classes, k=n_subsamples))\n",
    "    # predict labels\n",
    "    labels = dtree.predict(no_classes)\n",
    "    # reset classes\n",
    "    ret = no_classes.copy()\n",
    "    ret['label'] = labels\n",
    "    return ret\n",
    "\n",
    "def detect_stream_drift(stream, detector):\n",
    "    # NB stream should be a list\n",
    "    for i in range(len(stream)):\n",
    "        _, drift_status = detector.run(stream[i])\n",
    "        if drift_status == True:\n",
    "            return i\n",
    "    return False\n",
    "\n",
    "def detect_drifting_streams(data, detector_algorithm, delta):\n",
    "    # returns dictionary mapping column name -> point of drift detection\n",
    "    # for all the columns in which drift was detected\n",
    "    ret = {}\n",
    "    for col in data.columns:\n",
    "        detector = detector_algorithm(delta=delta)\n",
    "        stream = list(data[col])\n",
    "        detection = detect_stream_drift(stream, detector)\n",
    "        ret[col] = detection\n",
    "#         if detection:\n",
    "#             ret[col] = detection\n",
    "    return ret\n",
    "\n",
    "DRIFT_POINT = 500\n",
    "\n",
    "def evaluate_detector(features, labels, err, classes, detector_algorithm, delta, drifting_streams):\n",
    "    # drifting streams is the correct labels of which are drifting\n",
    "    \n",
    "    detections = {}\n",
    "    \n",
    "    # err\n",
    "    err_df = pd.DataFrame({'err': err})\n",
    "    detections['err'] = detect_drifting_streams(err_df, detector_algorithm, delta)\n",
    "    \n",
    "    # labels\n",
    "    labels = list(labels)\n",
    "    label_df = pd.DataFrame({f'label={class_}': [False for i in range(len(labels))] for class_ in classes})\n",
    "    for i in range(len(labels)):\n",
    "        label_df.loc[i, f'label={labels[i]}'] = True\n",
    "    detections['label'] = detect_drifting_streams(label_df, detector_algorithm, delta)\n",
    "    \n",
    "    # features\n",
    "    detections['feature'] = detect_drifting_streams(features, detector_algorithm, delta)\n",
    "    \n",
    "    metrics = defaultdict(Counter)\n",
    "    for thing in ['err', 'label', 'feature']:\n",
    "        det = detections[thing]\n",
    "        metrics[thing]['delay'] = []\n",
    "        for col in det.keys():\n",
    "            col_det = det[col]\n",
    "            if col_det == False:\n",
    "                if col in drifting_streams:\n",
    "                    metrics[thing]['fn'] += 1\n",
    "                else:\n",
    "                    metrics[thing]['tn'] += 1\n",
    "            elif col_det and col_det < DRIFT_POINT:\n",
    "                metrics[thing]['fp'] += 1\n",
    "            else:\n",
    "                if col in drifting_streams:\n",
    "                    metrics[thing]['tp'] += 1\n",
    "                    metrics[thing]['delay'].append(col_det)\n",
    "                else:\n",
    "                    metrics[thing]['fp'] += 1\n",
    "    return metrics, detections\n",
    "    \n",
    "\n",
    "def run_experiment(train, test, classes, learner, scenario, detector_algorithm, delta):\n",
    "    # train and test should initially have a single 'label' column\n",
    "    \n",
    "    # train model\n",
    "    model = learner()\n",
    "    model.fit(train.drop(columns=['label']), train['label'])\n",
    "    \n",
    "    # generate test dataset\n",
    "    split_at = len(test) // 2\n",
    "    test1 = test.loc[:split_at, :]\n",
    "    test2 = test.loc[split_at:, :]\n",
    "    scenario_f = eval(scenario)\n",
    "    test2, changing_streams = scenario_f(test2, classes)\n",
    "    changing_streams += ['err']\n",
    "    test = pd.concat([test1, test2])\n",
    "    y_hat = model.predict(test.drop(columns=['label']))\n",
    "    y = test['label']\n",
    "    errs = [ i!=j for i,j in zip(y, y_hat) ]\n",
    "    \n",
    "    # run drift detector\n",
    "    no_comparisons = len(classes) + len(train.columns) # minus one for 'label' and plus one for 'err'\n",
    "    # delta = delta / no_comparisons # bonferonni correction\n",
    "    metrics, detections = evaluate_detector(test.drop(columns=['label']), y, errs, classes, detector_algorithm, delta, changing_streams)\n",
    "    \n",
    "    return metrics, detections"
   ]
  },
  {
   "cell_type": "code",
   "execution_count": 131,
   "metadata": {},
   "outputs": [
    {
     "name": "stdout",
     "output_type": "stream",
     "text": [
      "shuffle_features\n"
     ]
    },
    {
     "data": {
      "text/plain": [
       "defaultdict(collections.Counter,\n",
       "            {'err': Counter({'delay': [], 'fn': 1}),\n",
       "             'label': Counter({'delay': [543], 'fn': 4, 'tp': 1}),\n",
       "             'feature': Counter({'delay': [], 'tn': 98, 'fp': 10, 'fn': 5})})"
      ]
     },
     "metadata": {},
     "output_type": "display_data"
    },
    {
     "name": "stdout",
     "output_type": "stream",
     "text": [
      "not_feature\n"
     ]
    },
    {
     "data": {
      "text/plain": [
       "defaultdict(collections.Counter,\n",
       "            {'err': Counter({'delay': [], 'fn': 1}),\n",
       "             'label': Counter({'delay': [543], 'fn': 4, 'tp': 1}),\n",
       "             'feature': Counter({'delay': [863],\n",
       "                      'tn': 102,\n",
       "                      'fp': 10,\n",
       "                      'tp': 1})})"
      ]
     },
     "metadata": {},
     "output_type": "display_data"
    },
    {
     "name": "stdout",
     "output_type": "stream",
     "text": [
      "swap_classes\n"
     ]
    },
    {
     "data": {
      "text/plain": [
       "defaultdict(collections.Counter,\n",
       "            {'err': Counter({'delay': [], 'fn': 1}),\n",
       "             'label': Counter({'delay': [], 'fp': 2, 'tn': 2, 'fn': 1}),\n",
       "             'feature': Counter({'delay': [703, 639, 639, 543, 895],\n",
       "                      'fn': 99,\n",
       "                      'tp': 5,\n",
       "                      'fp': 9})})"
      ]
     },
     "metadata": {},
     "output_type": "display_data"
    },
    {
     "name": "stdout",
     "output_type": "stream",
     "text": [
      "new_concept\n"
     ]
    },
    {
     "data": {
      "text/plain": [
       "defaultdict(collections.Counter,\n",
       "            {'err': Counter({'delay': [703], 'tp': 1}),\n",
       "             'label': Counter({'delay': [], 'fn': 5}),\n",
       "             'feature': Counter({'delay': [], 'tn': 103, 'fp': 10})})"
      ]
     },
     "metadata": {},
     "output_type": "display_data"
    }
   ],
   "source": [
    "data = pd.read_csv('synthetic.csv').drop(columns='date')\n",
    "classes = [1,2,3,4,5]\n",
    "data = add_made_up_labels(data, classes)\n",
    "test = data.loc[500:1500, :]\n",
    "train = data.loc[:500, :]\n",
    "detector_algorithm = ADWINChangeDetector\n",
    "delta = 0.5\n",
    "learner = BernoulliNB\n",
    "\n",
    "for scenario in scenarios:\n",
    "    print(scenario)\n",
    "    metrics, detections = run_experiment(train, test, classes, learner, scenario, detector_algorithm, delta)\n",
    "    display(metrics)"
   ]
  },
  {
   "cell_type": "code",
   "execution_count": null,
   "metadata": {},
   "outputs": [],
   "source": [
    "# I am here assuming that there is no 'date' column\n",
    "\n",
    "def shuffle_features(data, classes, shuffle_n=5):\n",
    "    # pick shuffle_n features columns and shuffle them\n",
    "    ret = data.copy()\n",
    "    features = set(data.columns) - set(classes)\n",
    "    to_shuffle = random.sample(features, shuffle_n)\n",
    "    for i in range(shuffle_n):\n",
    "        ret[to_shuffle[i]] = re[to_shuffle[(i+1)%shuffle_n]]\n",
    "    return ret, to_shuffle\n",
    "    \n",
    "def not_feature(data, classes):\n",
    "    # randomly choose a feature x and replace values with not x\n",
    "    ret = data.copy()\n",
    "    features = set(data.columns) - set(classes)\n",
    "    invert_col = random.choice(features)\n",
    "    ret[invert_col] = [ not i for i in ret[invert_col] ]\n",
    "    return ret, invert_col\n",
    "\n",
    "def incr_class_rate(data, classes):\n",
    "    # pick a class and double its rate\n",
    "    # TODO: currently actually converts half of non-x's to x's\n",
    "    ret = data.copy()\n",
    "    incr_class = random.choice(classes)\n",
    "    replacements = data[ data[incr_class] == True ]\n",
    "    for i in range(len(data)):\n",
    "        if not ret.loc[i, incr_class]:\n",
    "            if random.random() < 0.5:\n",
    "                # with 50% probability replace this class with incr_class\n",
    "                ret.loc[i, :] = replacements.sample(1).values\n",
    "    return ret, incr_class\n",
    "                \n",
    "def decr_class_rate(data, classes):\n",
    "    # pick a class and half its rate\n",
    "    # TODO\n",
    "    ret = data.copy()\n",
    "    decr_class = random.choice(classes)\n",
    "    replacements = data[ data[decr_class] == False ]\n",
    "    for i in range(len(data)):\n",
    "        if ret.loc[i, decr_class]:\n",
    "            if random.random() < 0.5:\n",
    "                # with 50% probability replace this class with incr_class\n",
    "                ret.loc[i, :] = replacements.sample(1).values\n",
    "    return ret, decr_class\n",
    "\n",
    "def new_concept(data, classes):\n",
    "    # drop classes columns\n",
    "    no_classes = data[ [ col for col in data.columns if col not in classes ] ]\n",
    "    # train new concept\n",
    "    dtree = DecisionTreeClassifier()\n",
    "    n_subsamples = 10\n",
    "    dtree.fit(no_classes.sample(n_subsamples), random.choices(range(len(classes)), k=n_subsamples))\n",
    "    # predict labels\n",
    "    labels = dtree.predict(no_classes)\n",
    "    # reset classes\n",
    "    ret = data.copy()\n",
    "    for class_ in classes:\n",
    "        ret[class_] = [ False for i in range(len(data[class_])) ]\n",
    "    # re-assign classes\n",
    "    for i in range(len(ret)):\n",
    "        ret.loc[i, classes[labels[i]]] = True\n",
    "    return ret, dtree\n",
    "\n",
    "scenarios = 'shuffle_features not_feature incr_class_rate decr_class_rate new_concept'.split()\n",
    "\n",
    "def run_experiment(train, test, classes, learner, scenario, detector):\n",
    "    # train and test should initially have a single 'label' column\n",
    "    model = learner()\n",
    "    model.fit(train[[ col for col in train.columns if col != 'label' ]], train['label'])\n",
    "    \n",
    "    # split \n",
    "                \n",
    "        \n",
    "                "
   ]
  },
  {
   "cell_type": "code",
   "execution_count": 112,
   "metadata": {},
   "outputs": [],
   "source": [
    "def print_dtree(dtree):\n",
    "    dot_data = StringIO()\n",
    "    export_graphviz(dtree, out_file=dot_data,  \n",
    "                    filled=True, rounded=True,\n",
    "                    special_characters=True)\n",
    "    graph = pydotplus.graph_from_dot_data(dot_data.getvalue())  \n",
    "    \n",
    "    display(Markdown(f'### Concept {i}'))\n",
    "    display((Image(graph.create_png())))\n",
    "\n",
    "    split_features = [ i for i in dtree.tree_.feature if i >= 0 ]\n",
    "    print(f'Split features: {list(dataset.columns[split_features])}')"
   ]
  }
 ],
 "metadata": {
  "kernelspec": {
   "display_name": "Python 3",
   "language": "python",
   "name": "python3"
  },
  "language_info": {
   "codemirror_mode": {
    "name": "ipython",
    "version": 3
   },
   "file_extension": ".py",
   "mimetype": "text/x-python",
   "name": "python",
   "nbconvert_exporter": "python",
   "pygments_lexer": "ipython3",
   "version": "3.6.8"
  }
 },
 "nbformat": 4,
 "nbformat_minor": 2
}
